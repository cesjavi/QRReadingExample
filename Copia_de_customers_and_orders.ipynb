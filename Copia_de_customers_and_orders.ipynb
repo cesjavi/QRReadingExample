{
  "cells": [
    {
      "cell_type": "markdown",
      "metadata": {
        "id": "view-in-github",
        "colab_type": "text"
      },
      "source": [
        "<a href=\"https://colab.research.google.com/github/cesjavi/QRReadingExample/blob/main/Copia_de_customers_and_orders.ipynb\" target=\"_parent\"><img src=\"https://colab.research.google.com/assets/colab-badge.svg\" alt=\"Open In Colab\"/></a>"
      ]
    },
    {
      "cell_type": "markdown",
      "metadata": {
        "id": "piiX_CRNFYUi"
      },
      "source": [
        "# Technical Challenge ! Custiomers and Orders - The lifeblood of any business!\n",
        "\n",
        "This notebook depends on two data files: customers.scv and orders.csv. These files are hosted in the cloud (or Github), so for simplicity, we are providing you with the code to download and save the two files in a folder called 'sample_data' which lives within this notebook session (not on your local computer nor Google Drive).\n",
        "\n",
        "![sample_data folder in notebook session](https://raw.githubusercontent.com/anyoneai/notebooks/main/customers_and_orders/images/sample_data_folder.png)\n",
        "\n",
        "Please execute the first code snippet before moving to the rest of the exercise as this code will import the data from the files for you to be able to execute the rest of the exercise.\n",
        "\n",
        "Remember as we said in the previous lecture, you have to save this notebook into your Google Drive by going to menu File/Save a Copy In Drive, or clicking in the button \"Copy to Drive\". This way, you will not lose any work you've done and the file will persist with your latest changes in your Google Drive. Also we recommend you to rename your .ipynb in your Google Drive, so you can easily find it in the future."
      ]
    },
    {
      "cell_type": "code",
      "execution_count": null,
      "metadata": {
        "colab": {
          "base_uri": "https://localhost:8080/"
        },
        "id": "MWpVO242FQHC",
        "outputId": "7557d537-fb34-4dc3-c76f-208bab8a5d52"
      },
      "outputs": [
        {
          "output_type": "stream",
          "name": "stdout",
          "text": [
            "Customers and orders CSV files have been added './sample_data'\n"
          ]
        }
      ],
      "source": [
        "import requests\n",
        "\n",
        "def import_data_files():\n",
        "  r = requests.get('https://raw.githubusercontent.com/anyoneai/notebooks/main/customers_and_orders/data/customers.csv')\n",
        "  with open('./sample_data/customers.csv', 'wb') as f:\n",
        "    f.write(r.content)\n",
        "\n",
        "  r = requests.get('https://raw.githubusercontent.com/anyoneai/notebooks/main/customers_and_orders/data/orders.csv')\n",
        "  with open('./sample_data/orders.csv', 'wb') as f:\n",
        "    f.write(r.content)\n",
        "\n",
        "import_data_files()\n",
        "print(\"Customers and orders CSV files have been added './sample_data'\")"
      ]
    },
    {
      "cell_type": "markdown",
      "metadata": {
        "id": "JQAduY-RWKyB"
      },
      "source": [
        "# Exercise 1: Processing Customers data (difficulty medium)\n",
        "\n",
        "The sample customer data in 'customers.csv' file has just 5 columns: CustomerId, First Name, Last Name, City and State\n",
        "\n",
        "![Data sample](https://raw.githubusercontent.com/anyoneai/notebooks/main/customers_and_orders/images/customers.png)\n",
        "\n",
        "We strongly recommend that you complete from the [Prep Course: Intro to Python](https://colab.research.google.com/github/anyoneai/notebooks/blob/main/python3_crash_course.ipynb) the following section:\n",
        "- Section 7: File I/O (to understand how to read CSV file)\n",
        "- Section 6: For Loop (to navigate the contents of the CSV file)\n",
        "- Section 5: Tuples, Lists, and Dictionaries (to manipulate the data of the CSV file)\n",
        "\n",
        "With this, we hope you can complete this exercise successfully. Although if you want to solve this with libraries or any other way, you are welcome to do it your way.\n",
        "\n",
        "*Hint:* We advise you to take a look at the data before you start.\n",
        "**if you want to manually take a look at the data before you start, please see the content of the data [here](https://github.com/anyoneai/notebooks/blob/main/customers_and_orders/data/customers.csv).\n",
        "\n",
        "*Hint*: There are many ways to do this exercise you can do your own, although here's some help. You can solve this exercise reading and parsing CSV files, structuring data into dictionaries, and using for loops to navigate the contents\n",
        "\n",
        "*Hint*: Also, keep in mind that data might not be clean and you might have to figure out how to deal with that data from the code, without having to modify the data source.\n",
        "\n",
        "Below are the 5 questions you'll have to answer to pass the evaluation:"
      ]
    },
    {
      "cell_type": "markdown",
      "metadata": {
        "id": "kJq7S8sBfbOW"
      },
      "source": [
        "**Question 1:** How many customers are in the file?\n",
        "(as help, we have added some comments and starter code to help you structure the solution)"
      ]
    },
    {
      "cell_type": "code",
      "execution_count": null,
      "metadata": {
        "colab": {
          "base_uri": "https://localhost:8080/"
        },
        "id": "oMnUFBFb2RUb",
        "outputId": "0f295a4d-f4bb-42a6-9af2-af06b1addc53"
      },
      "outputs": [
        {
          "output_type": "stream",
          "name": "stdout",
          "text": [
            "602\n",
            "All done!\n"
          ]
        }
      ],
      "source": [
        "from os.path import exists\n",
        "import csv\n",
        "\n",
        "# check if file can be found and open the file\n",
        "datafile = \"./sample_data/customers.csv\"\n",
        "if not exists(datafile):\n",
        "  raise SystemExit(\"You should run the first code cell and download the dataset files!\")\n",
        "\n",
        "# customers file is in the sample_data folder and can be opened.\n",
        "# Using csv reader is one way of dealing with the file\n",
        "# but it's up to you how you want to proceed\n",
        "with open(datafile, 'r') as fl:\n",
        "  csvreader = csv.reader(fl, delimiter=',')\n",
        "  next(fl)\n",
        "  c = 0\n",
        "  if()\n",
        "  for line in csvreader:\n",
        "    c += 1\n",
        "  print(c)\n",
        "  # loop through the rows and count etc. THE REST IS UP TO YOU!\n",
        "\n",
        "\n",
        "print(\"All done!\")"
      ]
    },
    {
      "cell_type": "markdown",
      "metadata": {
        "id": "uffBnNgz_570"
      },
      "source": [
        "**Question 2:** In how many different states do the customers live in?"
      ]
    },
    {
      "cell_type": "code",
      "execution_count": null,
      "metadata": {
        "id": "Bi_yid0sMe3-",
        "colab": {
          "base_uri": "https://localhost:8080/"
        },
        "outputId": "f86d771c-1267-411a-b647-c19ac7163e82"
      },
      "outputs": [
        {
          "output_type": "stream",
          "name": "stdout",
          "text": [
            "15\n"
          ]
        }
      ],
      "source": [
        "# open file and init vars\n",
        "# evaluate the contents of the file\n",
        "with open(datafile, 'r') as fl:\n",
        "  csvreader = csv.reader(fl, delimiter=',')\n",
        "  next(fl)\n",
        "  states = []\n",
        "  for line in csvreader:\n",
        "    state = line[4].strip()\n",
        "    if not state in states:\n",
        "      states.append(state)\n",
        "  print(len(states))"
      ]
    },
    {
      "cell_type": "markdown",
      "metadata": {
        "id": "DC59SZYiMfNY"
      },
      "source": [
        "**Question 3** What is the state with most customers?"
      ]
    },
    {
      "cell_type": "code",
      "execution_count": null,
      "metadata": {
        "id": "tfGU3w-OMhA9",
        "colab": {
          "base_uri": "https://localhost:8080/"
        },
        "outputId": "8266d703-3dc6-443c-ebae-3aef2da739c0"
      },
      "outputs": [
        {
          "output_type": "stream",
          "name": "stdout",
          "text": [
            "CA\n"
          ]
        }
      ],
      "source": [
        "# open file and init vars\n",
        "# evaluate the contents of the file\n",
        "with open(datafile, 'r') as fl:\n",
        "  csvreader = csv.reader(fl, delimiter=',')\n",
        "  next(fl)\n",
        "  states = {}\n",
        "  for line in csvreader:\n",
        "    state = line[4].strip()\n",
        "    if not state in states:\n",
        "      states[state] = 0\n",
        "    if state in states:\n",
        "      states[state] +=1\n",
        "  print(max(states, key=states.get))"
      ]
    },
    {
      "cell_type": "markdown",
      "metadata": {
        "id": "7mcM6cUAMhLB"
      },
      "source": [
        "**Question 4** What is the state with the least customers?"
      ]
    },
    {
      "cell_type": "code",
      "execution_count": null,
      "metadata": {
        "id": "8T0Ka2RqMi3P",
        "colab": {
          "base_uri": "https://localhost:8080/"
        },
        "outputId": "328b8bc1-86b8-4baf-81bd-df9f4177c8b3"
      },
      "outputs": [
        {
          "output_type": "stream",
          "name": "stdout",
          "text": [
            "WA\n"
          ]
        }
      ],
      "source": [
        "# open file and init vars\n",
        "# evaluate the contents of the file\n",
        "with open(datafile, 'r') as fl:\n",
        "  csvreader = csv.reader(fl, delimiter=',')\n",
        "  next(fl)\n",
        "  states = {}\n",
        "  for line in csvreader:\n",
        "    state = line[4].strip()\n",
        "    if not state in states:\n",
        "      states[state] = 0\n",
        "    elif state in states:\n",
        "      states[state] +=1\n",
        "  print(min(states, key=states.get))"
      ]
    },
    {
      "cell_type": "markdown",
      "metadata": {
        "id": "h6fIy7hXHF6A"
      },
      "source": [
        "**Question 5:** What is the most common last name?"
      ]
    },
    {
      "cell_type": "code",
      "execution_count": null,
      "metadata": {
        "id": "k8M1DmA75Km7",
        "colab": {
          "base_uri": "https://localhost:8080/"
        },
        "outputId": "c748b5cf-8ee9-4895-b91f-6b0043d7ecdc"
      },
      "outputs": [
        {
          "output_type": "stream",
          "name": "stdout",
          "text": [
            "Smith\n"
          ]
        }
      ],
      "source": [
        "# open file and init vars\n",
        "# evaluate the contents of the file\n",
        "with open(datafile, 'r') as fl:\n",
        "  csvreader = csv.reader(fl, delimiter=',')\n",
        "  next(fl)\n",
        "  lastnames = {}\n",
        "  for line in csvreader:\n",
        "    #print(line)\n",
        "    lastname = line[2].strip()\n",
        "    if not lastname in lastnames:\n",
        "      lastnames[lastname] = 0\n",
        "    elif lastname in lastnames:\n",
        "      lastnames[lastname] +=1\n",
        "  print(max(lastnames, key=lastnames.get))"
      ]
    },
    {
      "cell_type": "markdown",
      "metadata": {
        "id": "YPRma1t9NoFk"
      },
      "source": [
        "# Exercise 2: Processing Orders data (difficulty high)\n",
        "\n",
        "The second sample files contains orders placed by customers from the first file. Be careful, this file has many rows and you most likely should not print the contents of the whole file.\n",
        "\n",
        "The file contains the following columns: CustomerID, OrderID, Date, OrderTotal, ProductName, Price\n",
        "\n",
        "![Data sample](https://raw.githubusercontent.com/anyoneai/notebooks/main/customers_and_orders/images/orders.png)\n",
        "\n",
        "*Hint:* We advise you to take a look at the data before you start.\n",
        "**if you want to manually take a look at the data before you start, please see the content of the data [here](https://raw.githubusercontent.com/anyoneai/notebooks/main/customers_and_orders/data/orders.csv).\n",
        "\n",
        "*Hint*: There are many ways to do this exercise you can do your own, although here's some help. You can solve this exercise reading and parsing CSV files, structuring data into dictionaries, and using for loops to navigate the contents\n",
        "\n",
        "*Hint*: Also, the data is not clean and you will have to figure out how to deal with that data from the code, without having to modify the data source.\n",
        "\n",
        "\n",
        "\n",
        "**Question #1:** How many unique orders are in the orders.csv file?\n",
        "\n",
        "**Question #2:** What is the average number of items per order (rounded to two decimal places)?\n",
        "\n",
        "**Question #3:** What is the highest number of items per order?\n",
        "\n",
        "**Question #4:** What is the number of orders placed in October 2021?\n",
        "\n",
        "**Question #5:** Which customer spent the most amount of money in 2021?\n",
        "\n",
        "**Question #6:** Historically, what is the best month for sales?\n",
        "\n",
        "Once you get your answers, remember to go back to the course and introduce them in the multiple choice quiz"
      ]
    },
    {
      "cell_type": "code",
      "execution_count": null,
      "metadata": {
        "id": "8ipJTrfs5QVM",
        "colab": {
          "base_uri": "https://localhost:8080/"
        },
        "outputId": "07bfc8c1-516c-4183-fb59-edc2dee92636"
      },
      "outputs": [
        {
          "output_type": "stream",
          "name": "stdout",
          "text": [
            "There are  16672  unique orders\n",
            "average:  1.76\n",
            "the highest number of items per order is  34\n",
            "numbers of orders placed in October 2021:  437\n",
            "customer who spent the most amount of money in 2021 is  56170.0\n",
            "{'5464': 56170.0, '5172443': 27505.0, '5100595': 22748.0, '5572': 19236.0, '1902406': 18430.0, '7639': 15851.0, '4300438': 14994.0, '5100984': 13900.0, '4301100': 13410.0, '5227': 12430.0, '5430': 11810.0, '1907160': 11220.0, '4300754': 10617.0, '5776': 10575.0, '5078': 9247.0, '5014': 9015.0, '4300840': 9000.0, '5431': 7606.0, '6196': 7481.0, '5814': 7441.0, '902639': 7140.0, '5446': 6901.0, '6194': 6606.0, '2300276': 6450.0, '903601': 6300.0, '5173904': 6295.0, '4300295': 6199.0, '23898': 5827.0, '9236': 5774.0, '5370719': 5528.0, '5370863': 5425.0, '7553': 5330.0, '4700094': 5240.0, '5100834': 5230.0, '5172786': 4944.0, '5100812': 4926.0, '5173013': 4699.0, '900070': 4650.0, '1906528': 4604.0, '5463': 4591.0, '5370969': 4485.0, '1908934': 4479.0, '5076': 4414.0, '1904479': 4390.0, '5173856': 4372.0, '6131': 4354.0, '5971': 4050.0, '2300256': 4014.0, '5280': 3985.0, '5370251': 3953.0, '5901': 3790.0, '5172086': 3706.0, '5173135': 3702.0, '5370378': 3679.0, '5172728': 3650.0, '4301827': 3645.0, '1905606': 3600.0, '701684': 3565.0, '1907770': 3549.0, '2300266': 3499.0, '5710': 3466.0, '1906377': 3380.0, '5172365': 3371.0, '1903127': 3332.0, '5889': 3301.0, '5068': 3301.0, '1901506': 3292.0, '1908941': 3249.0, '7812': 3240.0, '5424': 3164.0, '5616': 3114.0, '4301400': 3075.0, '4300254': 3006.0, '701419': 2982.0, '5173982': 2976.0, '1907083': 2964.0, '5173893': 2951.0, '5946': 2944.0, '5172534': 2893.0, '902251': 2880.0, '5370163': 2816.0, '1500569': 2804.0, '5172644': 2769.0, '900569': 2767.0, '5101506': 2702.0, '5126048': 2701.0, '5173927': 2635.0, '703804': 2625.0, '5100721': 2600.0, '5173287': 2600.0, '5173498': 2600.0, '1904133': 2597.0, '1907428': 2580.0, '5100185': 2575.0, '4302129': 2555.0, '5393076': 2526.0, '9387': 2520.0, '5370205': 2507.0, '700294': 2480.0, '22445': 2464.0, '902503': 2434.0, '5370134': 2366.0, '4301968': 2360.0, '4301487': 2356.0, '4302023': 2340.0, '701258': 2340.0, '5173158': 2340.0, '5173650': 2325.0, '1905938': 2318.0, '902536': 2280.0, '20850': 2232.0, '5173868': 2228.0, '1909700': 2224.0, '700771': 2125.0, '1900709': 2117.0, '5173966': 2106.0, '6144': 2095.0, '1904538': 2080.0, '5945': 2080.0, '5173928': 2077.0, '703561': 2045.0, '1904932': 2040.0, '1905150': 2014.0, '5172487': 2006.0, '5370771': 1975.0, '5173895': 1966.0, '6192': 1949.0, '5173196': 1945.0, '4301217': 1936.0, '5172908': 1930.0, '5370086': 1911.0, '4301696': 1896.0, '5173788': 1877.0, '5721': 1859.0, '5955': 1849.0, '5371026': 1830.0, '5370458': 1828.0, '5370110': 1820.0, '11321': 1810.0, '700331': 1771.0, '5370983': 1750.0, '5174021': 1745.0, '5370216': 1720.0, '5101127': 1707.0, '901786': 1700.0, '5370599': 1675.0, '10986': 1671.0, '5173918': 1667.0, '4300371': 1665.0, '5173962': 1657.0, '1909346': 1591.0, '14564': 1587.0, '5370856': 1585.0, '8462': 1579.0, '20471': 1569.0, '4301362': 1567.0, '5370482': 1560.0, '3500018': 1552.0, '5370101': 1547.0, '5370317': 1506.0, '5101829': 1480.0, '900590': 1470.0, '9612': 1415.0, '1902451': 1413.0, '5415182': 1405.0, '5173885': 1402.0, '1900610': 1400.0, '5370247': 1377.0, '5173875': 1376.0, '5173506': 1367.0, '5173686': 1362.0, '4301147': 1348.0, '5370268': 1334.0, '5370630': 1331.0, '5370547': 1327.0, '5174027': 1277.0, '5370538': 1275.0, '5174054': 1266.0, '4301179': 1259.0, '5173969': 1252.0, '5173800': 1251.0, '5370557': 1236.0, '5053': 1232.0, '5756': 1231.0, '5365': 1226.0, '5370404': 1225.0, '1903426': 1215.0, '703136': 1201.0, '5173073': 1187.0, '20532': 1185.0, '5173438': 1157.0, '5173939': 1157.0, '1905380': 1156.0, '5172656': 1141.0, '1900588': 1137.0, '5782': 1137.0, '5100605': 1127.0, '5371030': 1120.0, '5371016': 1117.0, '5100779': 1105.0, '4300081': 1102.0, '5415141': 1093.0, '1901469': 1087.0, '5774': 1087.0, '1904400': 1060.0, '1903965': 1048.0, '5370278': 1044.0, '4700014': 1042.0, '5126060': 1040.0, '5172799': 1040.0, '5173569': 1040.0, '6177': 1037.0, '5174004': 1019.0, '5100363': 1012.0, '5172865': 1011.0, '1909384': 1009.0, '5701': 970.0, '8091': 958.0, '1500339': 958.0, '900879': 957.0, '4300858': 953.0, '5768': 952.0, '1903078': 941.0, '5370985': 941.0, '5370504': 940.0, '5100007': 935.0, '900635': 932.0, '4301117': 932.0, '5370415': 931.0, '1500181': 927.0, '5415114': 921.0, '11481': 910.0, '5370315': 887.0, '5172491': 882.0, '5808': 867.0, '8259': 867.0, '11042': 867.0, '4301885': 867.0, '900329': 863.0, '5370647': 860.0, '5172859': 857.0, '23107': 857.0, '1904529': 837.0, '7901': 832.0, '5173881': 815.0, '703330': 788.0, '900258': 788.0, '19096': 780.0, '903743': 772.0, '5370527': 770.0, '5173018': 764.0, '5101304': 761.0, '5172376': 751.0, '5172284': 738.0, '1909705': 722.0, '1907812': 707.0, '5101748': 705.0, '5173648': 702.0, '4301159': 685.0, '4301198': 675.0, '5371053': 675.0, '5370211': 660.0, '5174063': 631.0, '5370474': 620.0, '1500028': 611.0, '1908177': 601.0, '5370329': 544.0, '5173901': 517.0, '5370159': 509.0, '5172337': 507.0, '5173989': 502.0, '5370673': 501.0, '5415089': 495.0, '902139': 490.0, '5370196': 474.0, '901063': 449.0, '5415162': 429.0, '5370253': 407.0, '5173783': 399.0, '1907925': 394.0, '5172760': 392.0, '5370846': 381.0, '5370986': 371.0, '5173981': 342.0, '22827': 319.0, '5415122': 312.0, '5173778': 309.0, '5370173': 304.0, '5173877': 290.0, '5370655': 282.0, '3900068': 264.0, '1904886': 264.0, '5173938': 264.0, '5370671': 255.0, '5370111': 239.0, '5415325': 232.0, '5173842': 225.0, '5173613': 225.0, '5173872': 225.0, '5370475': 212.0, '5172982': 202.0, '5173998': 200.0, '5370446': 187.0, '5415329': 187.0, '5370649': 142.0, '5370200': 140.0, '5172601': 132.0, '5415113': 132.0, '5370896': 132.0, '5415350': 132.0, '5415318': 132.0, '5415270': 132.0, '4300670': 130.0, '5101470': 130.0, '1901046': 130.0, '5370786': 125.0, '5370298': 107.0, '5415279': 107.0, '5415211': 107.0, '5415337': 107.0, '5370142': 105.0, '5415286': 105.0, '5370347': 90.0, '1909369': 0, '1900805': 0, '1907259': 0, '4302187': 0, '1906350': 0, '4302052': 0, '5172200': 0, '5100330': 0, '1904438': 0, '5172092': 0, '5172133': 0, '4300928': 0, '5173415': 0, '5172680': 0, '5370706': 0, '1904527': 0, '5415323': 0, '5172598': 0, '5172643': 0, '5370422': 0, '5100785': 0, '5370757': 0, '5370758': 0, '5370884': 0, '5370602': 0, '5173749': 0, '5126069': 0, '5415171': 0, '5173844': 0, '5370388': 0, '5972': 0, '5415228': 0, '5415249': 0, '5415175': 0, '4300695': 0, '4301059': 0, '8404': 0, '1903794': 0, '1904821': 0, '5415331': 0, '5415400': 0, '5415391': 0, '5415361': 0, '5415402': 0, '5415384': 0, '5415409': 0, '5415411': 0, '5415416': 0, '5415420': 0, '5415425': 0, '5415427': 0, '5415449': 0, '5415447': 0, '5415434': 0, '5415436': 0, '5415441': 0, '5415418': 0, '5415443': 0, '5415445': 0, '5415450': 0, '5415459': 0, '5415461': 0, '5415466': 0, '5415395': 0, '5415397': 0, '5415399': 0, '5415412': 0, '5415413': 0, '5415414': 0, '5415379': 0, '5415398': 0, '5415382': 0, '5415415': 0, '5415198': 0, '5415345': 0, '5415362': 0, '5415365': 0, '4301754': 0, '1907141': 0, '5415429': 0, '5415430': 0, '5415431': 0, '5415470': 0, '5415468': 0, '5415477': 0, '5415452': 0, '5415484': 0, '5415486': 0, '5415475': 0, '5415500': 0, '5415502': 0, '5415432': 0, '5415232': 0, '5415446': 0, '5415448': 0, '5415462': 0, '5415464': 0, '5415465': 0, '5415463': 0, '5415481': 0, '5415482': 0, '5415498': 0, '5415499': 0, '5415404': 0, '5415405': 0, '5415406': 0, '5415407': 0, '5415285': 0, '5415087': 0, '5415421': 0, '5415422': 0, '5415423': 0, '5415424': 0, '5415437': 0, '5415438': 0, '5415440': 0, '5415439': 0, '5415455': 0, '5415456': 0, '5415457': 0, '5415471': 0, '5415472': 0, '5415473': 0, '5415474': 0, '702407': 0, '5415394': 0, '5415401': 0, '5415403': 0, '5415408': 0, '5415410': 0, '5415419': 0, '5415426': 0, '5415428': 0, '5415433': 0, '5415442': 0, '5415444': 0, '5415435': 0, '5415458': 0, '5415460': 0, '5415453': 0, '5415467': 0, '5415469': 0, '5415476': 0, '5415478': 0, '5415451': 0, '5415483': 0, '5415485': 0, '5415503': 0}\n",
            "best month is  12\n"
          ]
        }
      ],
      "source": [
        "# open and evaluate orders.csv\n",
        "from os.path import exists\n",
        "import csv\n",
        "import requests\n",
        "import datetime\n",
        "import operator\n",
        "\n",
        "datafile = \"./sample_data/orders.csv\"\n",
        "#datafile = \"https://raw.githubusercontent.com/anyoneai/notebooks/main/customers_and_orders/data/orders.csv\"\n",
        "#if not exists(datafile):\n",
        "#  raise SystemExit(\"You should run the first code cell and download the dataset files!\")\n",
        "with open(datafile, 'r') as fl:\n",
        "  csvreader = csv.reader(fl, delimiter=',')\n",
        "  next(fl)\n",
        "\n",
        "  orders = {}\n",
        "  customers = {}\n",
        "  months = {}\n",
        "  items = 0\n",
        "  day21 = 0\n",
        "  totalLines = 0\n",
        "  for line in csvreader:\n",
        "    totalLines +=1\n",
        "    order = line[1].strip()\n",
        "    customer = line[0].strip()\n",
        "    if not order in orders:\n",
        "      orders[order] = 0\n",
        "    elif order in orders:\n",
        "      orders[order] +=1\n",
        "    if not customer in customers:\n",
        "      customers[customer] = 0\n",
        "    elif customer in customers:\n",
        "      if len(line[2]) > 0:\n",
        "        date = datetime.datetime.strptime(line[2], '%Y-%m-%d %H:%M:%S.%f')\n",
        "        if date.year == 2021:\n",
        "          qty = 0\n",
        "          if len(line[3]) > 0:\n",
        "            qty = float(line[3])\n",
        "          customers[customer] += qty\n",
        "        month = date.month\n",
        "        if month not in months:\n",
        "          months[month] = 0\n",
        "        else:\n",
        "          months[month] += qty\n",
        "    if len(line[2]) > 0:\n",
        "      date = datetime.datetime.strptime(line[2], '%Y-%m-%d %H:%M:%S.%f')\n",
        "      if date.month == 10 and date.year == 2021:\n",
        "        day21 +=1\n",
        "    #print(line[3])\n",
        "    items += float(line[3])\n",
        "\n",
        "  #for line in csvreader:\n",
        "#Question #1: How many unique orders are in the orders.csv file?\n",
        "  print('There are ',len(orders), ' unique orders')\n",
        "#Question #2: What is the average number of items per order (rounded to two decimal places)?\n",
        "  print('average: ', round(totalLines/len(orders),2))\n",
        "#Question #3: What is the highest number of items per order?\n",
        "  print('the highest number of items per order is ',max(orders.values()))\n",
        "#Question #4: What is the number of orders placed in October 2021?\n",
        "  print('numbers of orders placed in October 2021: ', day21)\n",
        "#Question #5: Which customer spent the most amount of money in 2021?\n",
        "  print('customer who spent the most amount of money in 2021 is ', max(customers.values()))\n",
        "  print(dict( sorted(customers.items(), key=operator.itemgetter(1),reverse=True)))\n",
        "#Question #6: Historically, what is the best month for sales?\n",
        "  print('best month is ', max(months, key=months.get))\n",
        "#close file\n",
        "  fl.close()"
      ]
    },
    {
      "cell_type": "markdown",
      "metadata": {
        "id": "ie0JW4FAk6Os"
      },
      "source": [
        "# Finished!\n",
        "\n",
        "Hope this was not too difficult and slicing and dicing the datasets was some fun. Now head on back to the course and provide the answers to the questions from this exercise."
      ]
    }
  ],
  "metadata": {
    "colab": {
      "provenance": [],
      "include_colab_link": true
    },
    "kernelspec": {
      "display_name": "Python 3 (ipykernel)",
      "language": "python",
      "name": "python3"
    },
    "language_info": {
      "codemirror_mode": {
        "name": "ipython",
        "version": 3
      },
      "file_extension": ".py",
      "mimetype": "text/x-python",
      "name": "python",
      "nbconvert_exporter": "python",
      "pygments_lexer": "ipython3",
      "version": "3.9.9"
    }
  },
  "nbformat": 4,
  "nbformat_minor": 0
}